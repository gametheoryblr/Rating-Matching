{
 "cells": [
  {
   "cell_type": "code",
   "execution_count": 1,
   "metadata": {},
   "outputs": [],
   "source": [
    "import os\n",
    "import pandas as pd\n",
    "import json\n",
    "import ast"
   ]
  },
  {
   "cell_type": "code",
   "execution_count": 2,
   "metadata": {},
   "outputs": [
    {
     "data": {
      "text/plain": [
       "(5383, 25)"
      ]
     },
     "execution_count": 2,
     "metadata": {},
     "output_type": "execute_result"
    }
   ],
   "source": [
    "df = pd.read_csv(\"squash_dataset.csv\")\n",
    "df.shape"
   ]
  },
  {
   "cell_type": "code",
   "execution_count": 4,
   "metadata": {},
   "outputs": [
    {
     "data": {
      "text/plain": [
       "Index([u'Unnamed: 0', u'id', u'usr_id', u'cntr_id', u'bkng_id', u'oppnt_id',\n",
       "       u'match_id', u'centre_user_verified', u'centre_verified', u'created',\n",
       "       u'date_time', u'match_type', u'result', u'score', u'sets_won', u'sport',\n",
       "       u'status', u'team', u'user_opponent_verified', u'user_verified',\n",
       "       u'verified', u'user_id', u'centre_id', u'booking_id', u'opponent'],\n",
       "      dtype='object')"
      ]
     },
     "execution_count": 4,
     "metadata": {},
     "output_type": "execute_result"
    }
   ],
   "source": [
    "df.columns"
   ]
  },
  {
   "cell_type": "code",
   "execution_count": 6,
   "metadata": {},
   "outputs": [
    {
     "data": {
      "text/plain": [
       "5383"
      ]
     },
     "execution_count": 6,
     "metadata": {},
     "output_type": "execute_result"
    }
   ],
   "source": [
    "len(df[\"match_id\"].unique())"
   ]
  },
  {
   "cell_type": "code",
   "execution_count": 11,
   "metadata": {},
   "outputs": [
    {
     "name": "stderr",
     "output_type": "stream",
     "text": [
      "4it [00:00, 38.20it/s]"
     ]
    },
    {
     "name": "stdout",
     "output_type": "stream",
     "text": [
      "[8, 11]\n",
      "[8, 11]\n",
      "[11, 7]\n",
      "[11, 7]\n",
      "[4, 11]\n",
      "[9, 11]\n",
      "[11, 7]\n",
      "[4, 11]\n",
      "[2, 11]\n",
      "[9, 11]\n",
      "[8, 11]\n",
      "[11, 5]\n",
      "[11, 4]\n",
      "[11, 0]\n",
      "[11, 7]\n",
      "[11, 7]\n",
      "[11, 7]\n",
      "[11, 2]\n",
      "[5, 11]\n",
      "[2, 11]\n",
      "[9, 11]\n",
      "[9, 11]\n",
      "[7, 11]\n",
      "[7, 11]\n",
      "[11, 7]\n",
      "[11, 9]\n",
      "[8, 11]\n",
      "[11, 6]\n",
      "[11, 2]\n",
      "[11, 8]\n",
      "[7, 11]\n",
      "[11, 6]\n"
     ]
    },
    {
     "name": "stderr",
     "output_type": "stream",
     "text": [
      "10it [00:00, 31.76it/s]"
     ]
    },
    {
     "name": "stdout",
     "output_type": "stream",
     "text": [
      "[11, 5]\n",
      "[11, 5]\n",
      "[11, 1]\n",
      "[9, 11]\n",
      "[11, 6]\n",
      "[12, 10]\n",
      "[11, 7]\n",
      "[11, 7]\n",
      "[8, 11]\n",
      "[11, 3]\n",
      "[11, 3]\n",
      "[11, 5]\n",
      "[11, 5]\n",
      "[11, 8]\n"
     ]
    },
    {
     "name": "stderr",
     "output_type": "stream",
     "text": [
      "\n"
     ]
    }
   ],
   "source": [
    "import tqdm\n",
    "#create a new pandas dataframe with same columns as df\n",
    "df2 = pd.DataFrame(columns=df.columns)\n",
    "#use tqdm to show progress bar\n",
    "for ind,row in tqdm.tqdm(df.iterrows()):\n",
    "    if ind ==10:\n",
    "        break\n",
    "    sets = ast.literal_eval(row['score'])\n",
    "    for set_score in sets:\n",
    "        df2 = df2.append(row,ignore_index = True)\n",
    "        print(set_score)\n",
    "        df2.at[len(df2)-1, 'score'] = set_score\n",
    "\n",
    "df2.to_csv(\"squash_dataset_expanded.csv\", index=False)"
   ]
  },
  {
   "cell_type": "code",
   "execution_count": 12,
   "metadata": {},
   "outputs": [
    {
     "name": "stdout",
     "output_type": "stream",
     "text": [
      "Total_sets:  25290\n",
      "size of new df2:  46\n"
     ]
    }
   ],
   "source": [
    "total =0\n",
    "for ind,row in df.iterrows():\n",
    "    sets = ast.literal_eval(row['score'])\n",
    "    total += len(sets)\n",
    "print(\"Total_sets: \",total)\n",
    "print(\"size of new df2: \",len(df2))"
   ]
  },
  {
   "cell_type": "code",
   "execution_count": 29,
   "metadata": {},
   "outputs": [
    {
     "name": "stdout",
     "output_type": "stream",
     "text": [
      "<type 'str'>\n"
     ]
    },
    {
     "data": {
      "text/plain": [
       "int"
      ]
     },
     "execution_count": 29,
     "metadata": {},
     "output_type": "execute_result"
    }
   ],
   "source": [
    "import ast\n",
    "temp = df[\"score\"][0]\n",
    "print(type(temp))\n",
    "temp = ast.literal_eval(temp)\n",
    "type(temp[0][0])"
   ]
  },
  {
   "cell_type": "code",
   "execution_count": null,
   "metadata": {},
   "outputs": [],
   "source": []
  }
 ],
 "metadata": {
  "kernelspec": {
   "display_name": "Python 3",
   "language": "python",
   "name": "python3"
  },
  "language_info": {
   "codemirror_mode": {
    "name": "ipython",
    "version": 3
   },
   "file_extension": ".py",
   "mimetype": "text/x-python",
   "name": "python",
   "nbconvert_exporter": "python",
   "pygments_lexer": "ipython3",
   "version": "2.7.17"
  }
 },
 "nbformat": 4,
 "nbformat_minor": 4
}
