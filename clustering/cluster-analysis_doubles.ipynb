{
 "cells": [
  {
   "cell_type": "code",
   "execution_count": 1,
   "metadata": {},
   "outputs": [],
   "source": [
    "import json\n",
    "import pandas as pd\n",
    "import os\n",
    "from collections import OrderedDict\n",
    "import math"
   ]
  },
  {
   "cell_type": "markdown",
   "metadata": {},
   "source": [
    "- Loading the dataset"
   ]
  },
  {
   "cell_type": "code",
   "execution_count": 3,
   "metadata": {},
   "outputs": [],
   "source": [
    "df = pd.read_csv(\"cluster_doubles.csv\")\n",
    "\n",
    "#String of nodes to list of nodes\n",
    "for ind,row in df.iterrows():\n",
    "    for node in row[\"nodes\"]:\n",
    "        strr = row[\"nodes\"].strip('{').strip('}')\n",
    "        strr = strr.strip(\"'\")\n",
    "        lst = strr.split(',')\n",
    "        for i in range(0,len(lst)):\n",
    "            lst[i]=lst[i].strip(\" \").strip(\"'\")\n",
    "            # lst[i] = int(lst[i])\n",
    "    df.at[ind,\"nodes\"]=lst\n",
    "\n",
    "df = df.sort_values(by = 'total_nodes',ascending = False)\n",
    "\n",
    "with open('player_matches_doubles.json') as f:\n",
    "    match_counts = json.load(f)"
   ]
  },
  {
   "cell_type": "markdown",
   "metadata": {},
   "source": [
    "- Matches vs Clusters"
   ]
  },
  {
   "cell_type": "code",
   "execution_count": 4,
   "metadata": {},
   "outputs": [
    {
     "name": "stdout",
     "output_type": "stream",
     "text": [
      "Total Matches:  338966.0\n",
      "Total clusters:  403\n",
      "Around 30% of the matches are played by 0.24813895781637718% clusters\n",
      "Around 50% of the matches are played by 0.49627791563275436% clusters\n",
      "Around 70% of the matches are played by 10.173697270471465% clusters\n",
      "Around 100% of the matches are played by 100.0% clusters\n"
     ]
    }
   ],
   "source": [
    "def print_cluster_percentage(matches_percent, threshold, clusters_till_now, total_clusters):\n",
    "    cluster_percent = clusters_till_now / total_clusters\n",
    "    print(f\"Around {threshold}% of the matches are played by {100 * cluster_percent}% clusters\")\n",
    "\n",
    "    \n",
    "thresholds = [100, 70, 50, 30] #Input thresholds\n",
    "total_matches = df.sum(axis = 0, skipna = True)['total_matches']\n",
    "total_clusters = len(df)\n",
    "print(\"Total Matches: \",total_matches)\n",
    "print(\"Total clusters: \",total_clusters)\n",
    "matches_till_now = 0\n",
    "clusters_till_now = 0\n",
    "flags = OrderedDict.fromkeys(thresholds, True)\n",
    "\n",
    "for _, row in df.iterrows():\n",
    "    clusters_till_now += 1\n",
    "    matches_till_now += row['total_matches']\n",
    "    matches_percent = 100 * matches_till_now / total_matches\n",
    "\n",
    "    for threshold in sorted(flags.keys(),reverse= True):\n",
    "        if matches_percent >= threshold:\n",
    "            print_cluster_percentage(matches_percent, threshold, clusters_till_now, total_clusters)\n",
    "            flags.pop(threshold)\n",
    "            break\n"
   ]
  },
  {
   "cell_type": "markdown",
   "metadata": {},
   "source": [
    "- Cluster vs Players"
   ]
  },
  {
   "cell_type": "code",
   "execution_count": 5,
   "metadata": {},
   "outputs": [
    {
     "name": "stdout",
     "output_type": "stream",
     "text": [
      "Total Clusters:  403\n",
      "Unique list of cluster sizes:  [1306   26   25   23   22   20   18   16   14   13   12   11   10    9\n",
      "    8    7    6    5    4]\n",
      "Clusters with players == 2     : 0.00% of the total clusters or 0 clusters\n",
      "Clusters with players == 3     : 0.00% of the total clusters or 0 clusters\n",
      "Clusters with players == 4     : 55.83% of the total clusters or 225 clusters\n",
      "Clusters with players == 5     : 15.14% of the total clusters or 61 clusters\n",
      "Clusters with players >5 & <=10: 23.33% of the total clusters or 94 clusters\n",
      "Clusters with players >10      : 1.99% of the total clusters or 8 clusters\n"
     ]
    }
   ],
   "source": [
    "#Change these conditions accordingly\n",
    "conditions = [\n",
    "    (\"== 2     \", 2),\n",
    "    (\"== 3     \", 3),\n",
    "    (\"== 4     \", 4),\n",
    "    (\"== 5     \", 5),\n",
    "    (\">5 & <=10\", (5, 10)),\n",
    "    (\">10      \", 10)\n",
    "]\n",
    "\n",
    "# Print total clusters\n",
    "print(\"Total Clusters: \", total_clusters)\n",
    "print(\"Unique list of cluster sizes: \",df['total_nodes'].unique())\n",
    "\n",
    "# print(\"Unique list with frequency:\")    #Uncomment to see frequency count\n",
    "# print(df['total_nodes'].value_counts())\n",
    "\n",
    "# Calculate the percentage for each condition\n",
    "for condition_label, condition_value in conditions:\n",
    "    if isinstance(condition_value, int):\n",
    "        subset = df[df['total_nodes'] == condition_value]\n",
    "    else:\n",
    "        subset = df[(df['total_nodes'] > condition_value[0]) & (df['total_nodes'] <= condition_value[1])]\n",
    "    \n",
    "    percentage = len(subset) / total_clusters * 100\n",
    "    print(f\"Clusters with players {condition_label}: {percentage:.2f}% of the total clusters or {len(subset)} clusters\")\n"
   ]
  },
  {
   "cell_type": "markdown",
   "metadata": {},
   "source": [
    "- Cluster vs Players vs Matches"
   ]
  },
  {
   "cell_type": "code",
   "execution_count": 6,
   "metadata": {},
   "outputs": [
    {
     "name": "stdout",
     "output_type": "stream",
     "text": [
      "Avg matches/person in a cluster having size 4: 59.79\n",
      "Avg matches/cluster having size 4: 119.57\n",
      "\n",
      "Avg matches/person in a cluster having size 5: 186.45\n",
      "Avg matches/cluster having size 5: 466.13\n",
      "\n",
      "Avg matches/person in a cluster having size 6: 151.77\n",
      "Avg matches/cluster having size 6: 455.31\n",
      "\n",
      "Avg matches/person in a cluster having size 7: 179.43\n",
      "Avg matches/cluster having size 7: 628.00\n",
      "\n",
      "Avg matches/person in a cluster having size 8: 204.46\n",
      "Avg matches/cluster having size 8: 817.85\n",
      "\n",
      "Avg matches/person in a cluster having size 9: 163.76\n",
      "Avg matches/cluster having size 9: 736.91\n",
      "\n",
      "Avg matches/person in a cluster having size 10: 184.05\n",
      "Avg matches/cluster having size 10: 920.25\n",
      "\n",
      "Avg matches/person in a cluster having size 11: 295.09\n",
      "Avg matches/cluster having size 11: 1623.00\n",
      "\n",
      "Avg matches/person in a cluster having size 12: 158.00\n",
      "Avg matches/cluster having size 12: 948.00\n",
      "\n",
      "Avg matches/person in a cluster having size 13: 298.62\n",
      "Avg matches/cluster having size 13: 1941.00\n",
      "\n",
      "Avg matches/person in a cluster having size 14: 96.00\n",
      "Avg matches/cluster having size 14: 672.00\n",
      "\n",
      "Avg matches/person in a cluster having size 16: 624.00\n",
      "Avg matches/cluster having size 16: 4992.00\n",
      "\n",
      "Avg matches/person in a cluster having size 18: 122.67\n",
      "Avg matches/cluster having size 18: 1104.00\n",
      "\n",
      "Avg matches/person in a cluster having size 20: 121.20\n",
      "Avg matches/cluster having size 20: 1212.00\n",
      "\n",
      "Avg matches/person in a cluster having size 22: 135.27\n",
      "Avg matches/cluster having size 22: 1488.00\n",
      "\n",
      "Avg matches/person in a cluster having size 23: 1788.52\n",
      "Avg matches/cluster having size 23: 20568.00\n",
      "\n",
      "Avg matches/person in a cluster having size 25: 71.04\n",
      "Avg matches/cluster having size 25: 888.00\n",
      "\n",
      "Avg matches/person in a cluster having size 26: 73.85\n",
      "Avg matches/cluster having size 26: 960.00\n",
      "\n",
      "Avg matches/person in a cluster having size 1306: 257.53\n",
      "Avg matches/cluster having size 1306: 168170.00\n",
      "\n",
      "Avg matches/person in a cluster having size (5,10]: 178.67\n",
      "Avg matches/cluster having size (5,10]: 574.06\n",
      "\n",
      "Avg matches/person in a cluster having size (10,max]: 267.64\n",
      "Avg matches/cluster having size (10,max]: 9699.22\n",
      "\n"
     ]
    }
   ],
   "source": [
    "# Calculate the average matches played per person for each cluster size\n",
    "average_matches_per_person = {}\n",
    "average_matches_per_cluster = {}\n",
    "for size in range(2, max(df['total_nodes'])+1):\n",
    "    cluster_size_df = df[df['total_nodes'] == size]\n",
    "    if(len(df))==0:\n",
    "        continue\n",
    "    average_matches_per_person[size] = cluster_size_df['total_matches'].mean() / size\n",
    "    average_matches_per_cluster[size] = cluster_size_df['total_matches'].mean()\n",
    "\n",
    "\n",
    "\n",
    "# For cluster size between 5 and 10\n",
    "cluster_size_df = df[(df['total_nodes'] >= 5) & (df['total_nodes'] <= 10)]\n",
    "average_matches_per_person['(5,10]'] = cluster_size_df['total_matches'].mean() / cluster_size_df['total_nodes'].mean()\n",
    "average_matches_per_cluster['(5,10]'] = cluster_size_df['total_matches'].mean()\n",
    "\n",
    "# For cluster size greater than 10\n",
    "cluster_size_df = df[df['total_nodes'] > 10]\n",
    "average_matches_per_person['(10,max]'] = cluster_size_df['total_matches'].mean() / cluster_size_df['total_nodes'].mean()\n",
    "average_matches_per_cluster['(10,max]'] = cluster_size_df['total_matches'].mean()\n",
    "\n",
    "# Print the results\n",
    "for size_range, average_matches in average_matches_per_person.items():\n",
    "    if math.isnan(average_matches):\n",
    "        continue\n",
    "    print(f\"Avg matches/person in a cluster having size {size_range}: {2*average_matches:.2f}\")\n",
    "    print(f\"Avg matches/cluster having size {size_range}: {average_matches_per_cluster[size_range]:.2f}\\n\")\n"
   ]
  },
  {
   "cell_type": "markdown",
   "metadata": {},
   "source": [
    "- Players vs Matches"
   ]
  },
  {
   "cell_type": "code",
   "execution_count": 7,
   "metadata": {},
   "outputs": [
    {
     "name": "stdout",
     "output_type": "stream",
     "text": [
      "Total Matches:  338966.0\n",
      "Total Players:  3563\n",
      "Around 30% of the matches are played by 0.5332584900364862% players\n",
      "Around 50% of the matches are played by 1.2629806342969407% players\n",
      "Around 70% of the matches are played by 2.3856300870053326% players\n",
      "Around 200% of the matches are played by 100.0% players\n"
     ]
    }
   ],
   "source": [
    "arr = []\n",
    "\n",
    "for key,value in match_counts.items():\n",
    "    arr.append((value,key))\n",
    "\n",
    "arr.sort(reverse=True)\n",
    "\n",
    "def print_cluster_percentage(matches_percent, threshold, players_till_now, total_players):\n",
    "    player_percent = players_till_now / total_players\n",
    "    print(f\"Around {threshold}% of the matches are played by {100 * player_percent}% players\")\n",
    "\n",
    "    \n",
    "thresholds = [200, 70, 50, 30] #Input thresholds - Can go upto 200%\n",
    "total_matches = df.sum(axis = 0, skipna = True)['total_matches']\n",
    "total_players = len(match_counts)\n",
    "print(\"Total Matches: \",total_matches)\n",
    "print(\"Total Players: \",total_players)\n",
    "matches_till_now = 0\n",
    "players_till_now = 0\n",
    "\n",
    "flags = OrderedDict.fromkeys(thresholds, True)\n",
    "\n",
    "for iter in arr:\n",
    "    players_till_now += 1\n",
    "    matches_till_now += iter[0]\n",
    "    matches_percent = 100 * matches_till_now / total_matches\n",
    "\n",
    "    for threshold in sorted(flags.keys(),reverse= True):\n",
    "        if matches_percent >= threshold:\n",
    "            print_cluster_percentage(matches_percent, threshold, players_till_now, total_players)\n",
    "            flags.pop(threshold)\n",
    "            break"
   ]
  },
  {
   "cell_type": "markdown",
   "metadata": {},
   "source": [
    "- Players vs Clusters vs Matches"
   ]
  },
  {
   "cell_type": "code",
   "execution_count": 8,
   "metadata": {},
   "outputs": [
    {
     "name": "stdout",
     "output_type": "stream",
     "text": [
      "For the cluster-size range (2, 5): Avg  % of players with more than 0% matches= 100.00%\n",
      "For the cluster-size range (2, 5): Avg  % of players with more than 2.0% matches= 100.00%\n",
      "For the cluster-size range (2, 5): Avg  % of players with more than 6.0% matches= 100.00%\n",
      "For the cluster-size range (2, 5): Avg  % of players with more than 30.0% matches= 100.00%\n",
      "\n",
      "\n",
      "For the cluster-size range (5, 8): Avg  % of players with more than 0% matches= 100.00%\n",
      "For the cluster-size range (5, 8): Avg  % of players with more than 2.0% matches= 99.72%\n",
      "For the cluster-size range (5, 8): Avg  % of players with more than 6.0% matches= 98.74%\n",
      "For the cluster-size range (5, 8): Avg  % of players with more than 30.0% matches= 62.41%\n",
      "\n",
      "\n",
      "For the cluster-size range (8, 11): Avg  % of players with more than 0% matches= 100.00%\n",
      "For the cluster-size range (8, 11): Avg  % of players with more than 2.0% matches= 98.59%\n",
      "For the cluster-size range (8, 11): Avg  % of players with more than 6.0% matches= 86.93%\n",
      "For the cluster-size range (8, 11): Avg  % of players with more than 30.0% matches= 32.51%\n",
      "\n",
      "\n",
      "For the cluster-size range (11, 1307): Avg  % of players with more than 0% matches= 100.00%\n",
      "For the cluster-size range (11, 1307): Avg  % of players with more than 2.0% matches= 20.04%\n",
      "For the cluster-size range (11, 1307): Avg  % of players with more than 6.0% matches= 12.96%\n",
      "For the cluster-size range (11, 1307): Avg  % of players with more than 30.0% matches= 2.22%\n",
      "\n",
      "\n"
     ]
    }
   ],
   "source": [
    "# Function to calculate percentage of players with match counts exceeding a threshold\n",
    "def calculate_percentage(df_slice, threshold):\n",
    "    percent_players_played_above_threshold_matches=0\n",
    "    for _, row in df_slice.iterrows():\n",
    "        total_matches = row['total_matches']\n",
    "        total_players = row[\"total_nodes\"]\n",
    "        players_above_threshold = 0\n",
    "        \n",
    "        for node in row[\"nodes\"]:\n",
    "            if int(match_counts[str(node)]) >= threshold * total_matches:\n",
    "                players_above_threshold += 1\n",
    "                #print(threshold * total_matches,match_counts[str(node)])\n",
    "        percent_players_played_above_threshold_matches += 100 * players_above_threshold/ total_players\n",
    "    \n",
    "    return percent_players_played_above_threshold_matches/len(df_slice)\n",
    "\n",
    "\n",
    "# INPUTS\n",
    "thresholds = [0,0.02,0.06,0.3] # Change the thresholds accordingly\n",
    "ranges = [(2,5),(5,8),(8,11),(11,max(df['total_nodes'])+1)] # Change the ranges accordingly\n",
    "\n",
    "\n",
    "cluster_frequency = {}\n",
    "\n",
    "for lims in ranges:\n",
    "    cluster_analysis_discrete = {}\n",
    "    for cluster_size in range(lims[0],lims[1]):\n",
    "        if len(df[df[\"total_nodes\"]==cluster_size])==0:\n",
    "            continue\n",
    "\n",
    "        lst = []\n",
    "        mean_percentages = {}\n",
    "        df_slice = df[df[\"total_nodes\"]==cluster_size]\n",
    "        for threshold in thresholds:\n",
    "            percentages = []\n",
    "            \n",
    "            cluster_frequency[cluster_size]=len(df_slice)\n",
    "            mean_percentages[threshold*100] = calculate_percentage(df_slice, threshold)\n",
    "            \n",
    "#         print(f\"Cluster Size: {cluster_size}\")\n",
    "#         for threshold, percentage in mean_percentages.items():\n",
    "#             print(f\"Percentage of players with more than {threshold}% matches: {percentage:.2f}%\")\n",
    "        \n",
    "        cluster_analysis_discrete[cluster_size] = list(mean_percentages.items()),sum(df_slice['total_nodes'])\n",
    "#     print(cluster_analysis_discrete) #Ouput Array with weights\n",
    "\n",
    "    #computing weighted average array from cluster_analysis_discrete\n",
    "    arr = {}\n",
    "    total_weight = 0\n",
    "    for key,value in cluster_analysis_discrete.items():\n",
    "        total_weight+=value[1]\n",
    "        for threshold,percentage in value[0]:\n",
    "            arr[threshold] = arr.get(threshold,0) + percentage*value[1]\n",
    "    \n",
    "    for key in arr:\n",
    "        arr[key] = arr[key]/total_weight\n",
    "        print(f\"For the cluster-size range {lims[0],lims[1]}: Avg  % of players with more than {key}% matches= {arr[key]:.2f}%\")\n",
    "    print(\"\\n\")\n"
   ]
  },
  {
   "cell_type": "code",
   "execution_count": null,
   "metadata": {},
   "outputs": [],
   "source": []
  }
 ],
 "metadata": {
  "kernelspec": {
   "display_name": "Python 3",
   "language": "python",
   "name": "python3"
  },
  "language_info": {
   "codemirror_mode": {
    "name": "ipython",
    "version": 3
   },
   "file_extension": ".py",
   "mimetype": "text/x-python",
   "name": "python",
   "nbconvert_exporter": "python",
   "pygments_lexer": "ipython3",
   "version": "3.6.9"
  }
 },
 "nbformat": 4,
 "nbformat_minor": 4
}
