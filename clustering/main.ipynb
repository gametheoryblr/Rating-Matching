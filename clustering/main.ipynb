{
 "cells": [
  {
   "cell_type": "code",
   "execution_count": 3,
   "metadata": {},
   "outputs": [],
   "source": [
    "import json\n",
    "import pandas as pd\n",
    "import os"
   ]
  },
  {
   "cell_type": "code",
   "execution_count": 4,
   "metadata": {},
   "outputs": [
    {
     "name": "stdout",
     "output_type": "stream",
     "text": [
      "113\n"
     ]
    }
   ],
   "source": [
    "df = pd.read_csv(\"cluster.csv\")\n",
    "print(len(df))\n",
    "df = df.sort_values(by = 'total_nodes',ascending = True)"
   ]
  },
  {
   "cell_type": "markdown",
   "metadata": {},
   "source": [
    "### Players vs Clusters"
   ]
  },
  {
   "cell_type": "code",
   "execution_count": 47,
   "metadata": {},
   "outputs": [
    {
     "name": "stdout",
     "output_type": "stream",
     "text": [
      "Total Matches:  4159.0\n",
      "Total clusters:  113\n",
      "Around 50% of the matches are played by 2.6548672566371683% clusters\n",
      "Around 70% of the matches are played by 29.20353982300885% clusters\n",
      "Around 90% of the matches are played by 100.0% clusters\n"
     ]
    }
   ],
   "source": [
    "total_matches = df.sum(axis = 0, skipna = True)['total_matches']\n",
    "total_clusters = len(df)\n",
    "print(\"Total Matches: \",total_matches)\n",
    "print(\"Total clusters: \",total_clusters)\n",
    "\n",
    "matches_till_now=0\n",
    "clusters_till_now =0\n",
    "\n",
    "flag70 = True\n",
    "flag90 = True\n",
    "flag50 = True\n",
    "flag30 = True\n",
    "\n",
    "for ind, row in df.iterrows():\n",
    "    clusters_till_now+=1\n",
    "    matches_till_now+=row['total_matches']\n",
    "    matches_percent = 100*matches_till_now/total_matches\n",
    "    if(matches_percent >= 90 and flag90):\n",
    "        cluster_percent = clusters_till_now/total_clusters\n",
    "        print(f\"Around 90% of the matches are played by {100 * cluster_percent}% clusters\")\n",
    "        flag90 = False\n",
    "        flag70 = False\n",
    "        flag50 = False\n",
    "        flag30 = False\n",
    "        continue\n",
    "\n",
    "    if(matches_percent >= 70 and flag70):\n",
    "        cluster_percent = clusters_till_now/total_clusters\n",
    "        print(f\"Around 70% of the matches are played by {100 * cluster_percent}% clusters\")\n",
    "        flag70 = False\n",
    "        flag50 = False\n",
    "        flag30 = False\n",
    "        continue\n",
    "\n",
    "    if(matches_percent >= 50 and flag50):\n",
    "        cluster_percent = clusters_till_now/total_clusters\n",
    "        print(f\"Around 50% of the matches are played by {100 * cluster_percent}% clusters\")\n",
    "        flag50 = False\n",
    "        flag30 = False\n",
    "        continue\n",
    "\n",
    "    if(matches_percent >= 30 and flag30):\n",
    "        cluster_percent = clusters_till_now/total_clusters\n",
    "        print(f\"Around 30% of the matches are played by {100 * cluster_percent}% clusters\")\n",
    "        flag30 = False\n",
    "        continue\n"
   ]
  },
  {
   "cell_type": "markdown",
   "metadata": {},
   "source": [
    "### Cluster vs Nodes"
   ]
  },
  {
   "cell_type": "code",
   "execution_count": 5,
   "metadata": {},
   "outputs": [
    {
     "name": "stdout",
     "output_type": "stream",
     "text": [
      "Total Clusters:  113\n",
      "Clusters with players == 2     : 54.87% & 62clusters\n",
      "Clusters with players == 3     : 23.01% & 26clusters\n",
      "Clusters with players == 4     : 8.85% & 10clusters\n",
      "Clusters with players == 5     : 3.54% & 4clusters\n",
      "Clusters with players >5 & <=10: 8.85% & 10clusters\n",
      "Clusters with players >10      : 0.88% & 1clusters\n"
     ]
    }
   ],
   "source": [
    "total_clusters = len(df)\n",
    "\n",
    "# Define the conditions\n",
    "conditions = {\n",
    "    \"== 2     \": df[df['total_nodes'] == 2],\n",
    "    \"== 3     \": df[df['total_nodes'] == 3],\n",
    "    \"== 4     \": df[df['total_nodes'] == 4],\n",
    "    \"== 5     \": df[df['total_nodes'] == 5],\n",
    "    \">5 & <=10\": df[(df['total_nodes'] > 5) & (df['total_nodes'] <= 10)],\n",
    "    \">10      \": df[df['total_nodes'] > 10]\n",
    "}\n",
    "print(\"Total Clusters: \",total_clusters)\n",
    "# Calculate the percentage for each condition\n",
    "for condition, subset in conditions.items():\n",
    "    percentage = len(subset) / total_clusters * 100\n",
    "    print(f\"Clusters with players {condition}: {percentage:.2f}% & {len(subset)}clusters\" )\n",
    "    "
   ]
  },
  {
   "cell_type": "markdown",
   "metadata": {},
   "source": [
    "### Cluster vs Matches"
   ]
  },
  {
   "cell_type": "code",
   "execution_count": 6,
   "metadata": {},
   "outputs": [
    {
     "name": "stdout",
     "output_type": "stream",
     "text": [
      "Average matches played per person in a cluster having size 2: 6.47\n",
      "Average matches played per person in a cluster having size 3: 11.69\n",
      "Average matches played per person in a cluster having size 4: 12.00\n",
      "Average matches played per person in a cluster having size 5: 14.90\n",
      "Average matches played per person in a cluster having size 6: 12.83\n",
      "Average matches played per person in a cluster having size 7: 27.33\n",
      "Average matches played per person in a cluster having size 8: nan\n",
      "Average matches played per person in a cluster having size 9: 25.11\n",
      "Average matches played per person in a cluster having size 10: 30.20\n",
      "Average matches played per person in a cluster having size 11: nan\n",
      "Average matches played per person in a cluster having size (5,10]: 22.88\n",
      "Average matches played per person in a cluster having size (10,max]: 36.33\n"
     ]
    }
   ],
   "source": [
    "# Calculate the average matches played per person for each cluster size\n",
    "average_matches_per_person = {}\n",
    "for size in range(2, 12):\n",
    "    cluster_size_df = df[df['total_nodes'] == size]\n",
    "    average_matches_per_person[size] = cluster_size_df['total_matches'].mean() / size\n",
    "\n",
    "\n",
    "# For cluster size between 5 and 10\n",
    "cluster_size_df = df[(df['total_nodes'] >= 5) & (df['total_nodes'] <= 10)]\n",
    "average_matches_per_person['(5,10]'] = cluster_size_df['total_matches'].mean() / cluster_size_df['total_nodes'].mean()\n",
    "\n",
    "# For cluster size greater than 10\n",
    "cluster_size_df = df[df['total_nodes'] > 10]\n",
    "average_matches_per_person['(10,max]'] = cluster_size_df['total_matches'].mean() / cluster_size_df['total_nodes'].mean()\n",
    "\n",
    "# Print the results\n",
    "for size_range, average_matches in average_matches_per_person.items():\n",
    "    print(f\"Average matches played per person in a cluster having size {size_range}: {2*average_matches:.2f}\")\n"
   ]
  },
  {
   "cell_type": "code",
   "execution_count": 51,
   "metadata": {},
   "outputs": [
    {
     "name": "stdout",
     "output_type": "stream",
     "text": [
      "Total Matches:  4159.0\n",
      "Total Playes:  445\n",
      "Around 30% of the matches are played by 1.5730337078651686% players\n",
      "Around 50% of the matches are played by 2.9213483146067416% players\n",
      "Around 70% of the matches are played by 4.943820224719101% players\n",
      "Around 90% of the matches are played by 7.865168539325842% players\n",
      "Around 200% of the matches are played by 100.0% players\n"
     ]
    }
   ],
   "source": [
    "with open('player_matches.json') as f:\n",
    "    match_counts = json.load(f)\n",
    "\n",
    "arr=[]\n",
    "for key,value in match_counts.items():\n",
    "    arr.append((value,key))\n",
    "arr.sort(reverse=True)\n",
    "# print(arr)\n",
    "\n",
    "\n",
    "total_matches = df.sum(axis = 0, skipna = True)['total_matches']\n",
    "print(\"Total Matches: \",total_matches)\n",
    "total_players = len(match_counts)\n",
    "print(\"Total Playes: \",total_players)\n",
    "\n",
    "players_till_now=0\n",
    "matches_till_now =0\n",
    "# print(type(match_counts))\n",
    "flag100 = True\n",
    "flag70 = True\n",
    "flag90 = True\n",
    "flag50 = True\n",
    "flag30 = True\n",
    "\n",
    "for value,_ in arr:\n",
    "    players_till_now +=1\n",
    "    #print(\"matches_till_now: \",players_till_now)\n",
    "    matches_till_now+=value\n",
    "    matches_percent = 100*matches_till_now/total_matches\n",
    "    \n",
    "    if(matches_percent >= 200 and flag100):\n",
    "        player_percent = players_till_now/total_players\n",
    "        print(f\"Around 200% of the matches are played by {100 * player_percent}% players\")\n",
    "        flag100 = False\n",
    "        flag90 = False\n",
    "        flag70 = False\n",
    "        flag50 = False\n",
    "        flag30 = False\n",
    "        continue\n",
    "\n",
    "    if(matches_percent >= 90 and flag90):\n",
    "        player_percent = players_till_now/total_players\n",
    "        print(f\"Around 90% of the matches are played by {100 * player_percent}% players\")\n",
    "        flag90 = False\n",
    "        flag70 = False\n",
    "        flag50 = False\n",
    "        flag30 = False\n",
    "        continue\n",
    "\n",
    "    if(matches_percent >= 70 and flag70):\n",
    "        player_percent = players_till_now/total_players\n",
    "        print(f\"Around 70% of the matches are played by {100 * player_percent}% players\")\n",
    "        flag70 = False\n",
    "        flag50 = False\n",
    "        flag30 = False\n",
    "        continue\n",
    "    if(matches_percent >= 50 and flag50):\n",
    "        player_percent = players_till_now/total_players\n",
    "        print(f\"Around 50% of the matches are played by {100 * player_percent}% players\")\n",
    "        flag50 = False\n",
    "        flag30 = False\n",
    "        continue\n",
    "\n",
    "    if(matches_percent >= 30 and flag30) :\n",
    "        player_percent = players_till_now/total_players\n",
    "        print(f\"Around 30% of the matches are played by {100 * player_percent}% players\")\n",
    "        flag30 = False\n",
    "        continue\n",
    "\n",
    "\n",
    "\n"
   ]
  },
  {
   "cell_type": "markdown",
   "metadata": {},
   "source": [
    "### Players vs Clusters"
   ]
  },
  {
   "cell_type": "code",
   "execution_count": 58,
   "metadata": {},
   "outputs": [
    {
     "name": "stdout",
     "output_type": "stream",
     "text": [
      "Percentage of players with more than (value1)% matches: (value2)%\n",
      "Cluster Size: 2\n",
      "Percentage of players with more than 0% matches: 100.00%\n",
      "Percentage of players with more than 2.0% matches: 100.00%\n",
      "Percentage of players with more than 6.0% matches: 100.00%\n",
      "Percentage of players with more than 30.0% matches: 100.00%\n",
      "Cluster Size: 3\n",
      "Percentage of players with more than 0% matches: 100.00%\n",
      "Percentage of players with more than 2.0% matches: 100.00%\n",
      "Percentage of players with more than 6.0% matches: 100.00%\n",
      "Percentage of players with more than 30.0% matches: 88.46%\n",
      "Cluster Size: 4\n",
      "Percentage of players with more than 0% matches: 100.00%\n",
      "Percentage of players with more than 2.0% matches: 100.00%\n",
      "Percentage of players with more than 6.0% matches: 97.50%\n",
      "Percentage of players with more than 30.0% matches: 77.50%\n",
      "Cluster Size: 110\n",
      "Percentage of players with more than 0% matches: 100.00%\n",
      "Percentage of players with more than 2.0% matches: 24.55%\n",
      "Percentage of players with more than 6.0% matches: 7.27%\n",
      "Percentage of players with more than 30.0% matches: 0.00%\n",
      "Cluster Size: 9\n",
      "Percentage of players with more than 0% matches: 100.00%\n",
      "Percentage of players with more than 2.0% matches: 100.00%\n",
      "Percentage of players with more than 6.0% matches: 88.89%\n",
      "Percentage of players with more than 30.0% matches: 22.22%\n",
      "Cluster Size: 10\n",
      "Percentage of players with more than 0% matches: 100.00%\n",
      "Percentage of players with more than 2.0% matches: 80.00%\n",
      "Percentage of players with more than 6.0% matches: 80.00%\n",
      "Percentage of players with more than 30.0% matches: 20.00%\n",
      "Cluster Size: 5\n",
      "Percentage of players with more than 0% matches: 100.00%\n",
      "Percentage of players with more than 2.0% matches: 100.00%\n",
      "Percentage of players with more than 6.0% matches: 100.00%\n",
      "Percentage of players with more than 30.0% matches: 50.00%\n",
      "Cluster Size: 6\n",
      "Percentage of players with more than 0% matches: 100.00%\n",
      "Percentage of players with more than 2.0% matches: 100.00%\n",
      "Percentage of players with more than 6.0% matches: 100.00%\n",
      "Percentage of players with more than 30.0% matches: 50.00%\n",
      "Cluster Size: 7\n",
      "Percentage of players with more than 0% matches: 100.00%\n",
      "Percentage of players with more than 2.0% matches: 100.00%\n",
      "Percentage of players with more than 6.0% matches: 90.48%\n",
      "Percentage of players with more than 30.0% matches: 40.48%\n"
     ]
    }
   ],
   "source": [
    "df = pd.read_csv(\"cluster.csv\")\n",
    "\n",
    "for ind,row in df.iterrows():\n",
    "    for node in row[\"nodes\"]:\n",
    "        strr = row[\"nodes\"].strip('{').strip('}')\n",
    "        strr = strr.strip(\"'\")\n",
    "        lst = strr.split(',')\n",
    "        for i in range(0,len(lst)):\n",
    "            lst[i]=lst[i].strip(\" \").strip(\"'\")\n",
    "            lst[i] = int(lst[i])\n",
    "    df.at[ind,\"nodes\"]=lst\n",
    "\n",
    "with open('player_matches.json') as f:\n",
    "    match_counts = json.load(f)\n",
    "\n",
    "# Function to calculate percentage of players with match counts exceeding a threshold\n",
    "def calculate_percentage(df_slice, threshold):\n",
    "    percent_players_played_above_threshold_matches=0\n",
    "    for ind, row in df_slice.iterrows():\n",
    "        total_matches = row['total_matches']\n",
    "        total_players = row[\"total_nodes\"]\n",
    "        players_above_threshold = 0\n",
    "        \n",
    "        for node in row[\"nodes\"]:\n",
    "            if int(match_counts[str(node)]) >= threshold * total_matches:\n",
    "                players_above_threshold += 1\n",
    "                #print(threshold * total_matches,match_counts[str(node)])\n",
    "        percent_players_played_above_threshold_matches+=100 * players_above_threshold/ total_players\n",
    "    return percent_players_played_above_threshold_matches/len(df_slice)\n",
    "\n",
    "cluster_analysis_discrete = {}\n",
    "cluster_frequency = {}\n",
    "print(f\"Percentage of players with more than (value1)% matches: (value2)%\")\n",
    "ranges = {(2,5),(5,8),(8,11),(11,max(df['total_nodes'])+1)}\n",
    "for lims in ranges:\n",
    "    for cluster_size in range(lims[0],lims[1]):\n",
    "        if len(df[df[\"total_nodes\"]==cluster_size])==0:\n",
    "            continue\n",
    "        lst = []\n",
    "        thresholds = [0,0.02,0.06,0.3]\n",
    "        mean_percentages = {}\n",
    "        for threshold in thresholds:\n",
    "            percentages = []\n",
    "            cluster_frequency[cluster_size]=len(df[df[\"total_nodes\"]==cluster_size])\n",
    "            percentages.append(calculate_percentage(df[df[\"total_nodes\"]==cluster_size], threshold))  # change for cluster_size\n",
    "            mean_percentages[threshold] = sum(percentages) / len(percentages)\n",
    "        print(f\"Cluster Size: {cluster_size}\")\n",
    "        for threshold, percentage in mean_percentages.items():\n",
    "            print(f\"Percentage of players with more than {threshold*100}% matches: {percentage:.2f}%\")\n",
    "        for iter in mean_percentages.items():\n",
    "            lst.append(iter)\n",
    "        cluster_analysis_discrete[cluster_size]=lst\n",
    "    # print(cluster_analysis_discrete)\n",
    "\n",
    "    cumulative_sums = {}\n",
    "    counts = {}\n",
    "    cluster_analysis_discrete\n",
    "    # Iterate over each cluster size and each threshold to calculate the cumulative sum and count\n",
    "    cluster_analysis_discrete=dict(sorted(cluster_analysis_discrete.items()))\n",
    "    for cluster_size, thresholds_data in cluster_analysis_discrete.items():\n",
    "        if cluster_size ==0:\n",
    "            continue\n",
    "        for threshold, percentage in thresholds_data:\n",
    "            if threshold in cumulative_sums:\n",
    "                cumulative_sums[threshold] += percentage*cluster_frequency[cluster_size]\n",
    "                counts[threshold] += cluster_frequency[cluster_size]\n",
    "            else:\n",
    "                cumulative_sums[threshold] = percentage*cluster_frequency[cluster_size]\n",
    "                counts[threshold] = cluster_frequency[cluster_size]\n",
    "\n",
    "    # Calculate the average percentage for each threshold\n",
    "    average_array = [(threshold*100, cumulative_sums[threshold] / counts[threshold]) for threshold in cumulative_sums]\n",
    "    \n",
    "    \n",
    "    # print(f\"\\nAverage array for range ({lims[0],lims[1]}):\", average_array)\n"
   ]
  },
  {
   "cell_type": "code",
   "execution_count": null,
   "metadata": {},
   "outputs": [],
   "source": []
  }
 ],
 "metadata": {
  "kernelspec": {
   "display_name": "Python 3",
   "language": "python",
   "name": "python3"
  },
  "language_info": {
   "codemirror_mode": {
    "name": "ipython",
    "version": 3
   },
   "file_extension": ".py",
   "mimetype": "text/x-python",
   "name": "python",
   "nbconvert_exporter": "python",
   "pygments_lexer": "ipython3",
   "version": "3.10.12"
  }
 },
 "nbformat": 4,
 "nbformat_minor": 4
}
