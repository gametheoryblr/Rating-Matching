{
 "cells": [
  {
   "cell_type": "code",
   "execution_count": 3,
   "metadata": {},
   "outputs": [],
   "source": [
    "import json\n",
    "import pandas as pd\n",
    "import os"
   ]
  },
  {
   "cell_type": "code",
   "execution_count": 4,
   "metadata": {},
   "outputs": [
    {
     "name": "stdout",
     "output_type": "stream",
     "text": [
      "113\n"
     ]
    }
   ],
   "source": [
    "df = pd.read_csv(\"cluster.csv\")\n",
    "print(len(df))\n",
    "df = df.sort_values(by = 'total_nodes',ascending = True)"
   ]
  },
  {
   "cell_type": "markdown",
   "metadata": {},
   "source": [
    "### Players vs Clusters"
   ]
  },
  {
   "cell_type": "code",
   "execution_count": 45,
   "metadata": {},
   "outputs": [
    {
     "name": "stdout",
     "output_type": "stream",
     "text": [
      "Total Matches:  4159.0\n",
      "Total clusters:  113\n",
      "Around 50% of the matches are played by 2.6548672566371683% clusters\n",
      "Around 70% of the matches are played by 29.20353982300885% clusters\n",
      "Around 90% of the matches are played by 75.22123893805309% clusters\n"
     ]
    }
   ],
   "source": [
    "total_matches = df.sum(axis = 0, skipna = True)['total_matches']\n",
    "total_clusters = len(df)\n",
    "print(\"Total Matches: \",total_matches)\n",
    "print(\"Total clusters: \",total_clusters)\n",
    "\n",
    "matches_till_now=0\n",
    "clusters_till_now =0\n",
    "\n",
    "flag70 = True\n",
    "flag90 = True\n",
    "flag50 = True\n",
    "flag30 = True\n",
    "\n",
    "for ind, row in df.iterrows():\n",
    "    clusters_till_now+=1\n",
    "    matches_till_now+=row['total_matches']\n",
    "    matches_percent = 100*matches_till_now/total_matches\n",
    "    if(matches_percent >= 90 and flag90):\n",
    "        cluster_percent = clusters_till_now/total_clusters\n",
    "        print(f\"Around 90% of the matches are played by {100 * cluster_percent}% clusters\")\n",
    "        flag90 = False\n",
    "        flag70 = False\n",
    "        flag50 = False\n",
    "        flag30 = False\n",
    "        continue\n",
    "\n",
    "    if(matches_percent >= 70 and flag70):\n",
    "        cluster_percent = clusters_till_now/total_clusters\n",
    "        print(f\"Around 70% of the matches are played by {100 * cluster_percent}% clusters\")\n",
    "        flag70 = False\n",
    "        flag50 = False\n",
    "        flag30 = False\n",
    "        continue\n",
    "\n",
    "    if(matches_percent >= 50 and flag50):\n",
    "        cluster_percent = clusters_till_now/total_clusters\n",
    "        print(f\"Around 50% of the matches are played by {100 * cluster_percent}% clusters\")\n",
    "        flag50 = False\n",
    "        flag30 = False\n",
    "        continue\n",
    "\n",
    "    if(matches_percent >= 30 and flag30):\n",
    "        cluster_percent = clusters_till_now/total_clusters\n",
    "        print(f\"Around 30% of the matches are played by {100 * cluster_percent}% clusters\")\n",
    "        flag30 = False\n",
    "        continue\n"
   ]
  },
  {
   "cell_type": "markdown",
   "metadata": {},
   "source": [
    "### Cluster vs Nodes"
   ]
  },
  {
   "cell_type": "code",
   "execution_count": 5,
   "metadata": {},
   "outputs": [
    {
     "name": "stdout",
     "output_type": "stream",
     "text": [
      "Total Clusters:  113\n",
      "Clusters with players == 2     : 54.87% & 62clusters\n",
      "Clusters with players == 3     : 23.01% & 26clusters\n",
      "Clusters with players == 4     : 8.85% & 10clusters\n",
      "Clusters with players == 5     : 3.54% & 4clusters\n",
      "Clusters with players >5 & <=10: 8.85% & 10clusters\n",
      "Clusters with players >10      : 0.88% & 1clusters\n"
     ]
    }
   ],
   "source": [
    "total_clusters = len(df)\n",
    "\n",
    "# Define the conditions\n",
    "conditions = {\n",
    "    \"== 2     \": df[df['total_nodes'] == 2],\n",
    "    \"== 3     \": df[df['total_nodes'] == 3],\n",
    "    \"== 4     \": df[df['total_nodes'] == 4],\n",
    "    \"== 5     \": df[df['total_nodes'] == 5],\n",
    "    \">5 & <=10\": df[(df['total_nodes'] > 5) & (df['total_nodes'] <= 10)],\n",
    "    \">10      \": df[df['total_nodes'] > 10]\n",
    "}\n",
    "print(\"Total Clusters: \",total_clusters)\n",
    "# Calculate the percentage for each condition\n",
    "for condition, subset in conditions.items():\n",
    "    percentage = len(subset) / total_clusters * 100\n",
    "    print(f\"Clusters with players {condition}: {percentage:.2f}% & {len(subset)}clusters\" )\n",
    "    "
   ]
  },
  {
   "cell_type": "markdown",
   "metadata": {},
   "source": [
    "### Cluster vs Matches"
   ]
  },
  {
   "cell_type": "code",
   "execution_count": 6,
   "metadata": {},
   "outputs": [
    {
     "name": "stdout",
     "output_type": "stream",
     "text": [
      "Average matches played per person in a cluster having size 2: 6.47\n",
      "Average matches played per person in a cluster having size 3: 11.69\n",
      "Average matches played per person in a cluster having size 4: 12.00\n",
      "Average matches played per person in a cluster having size 5: 14.90\n",
      "Average matches played per person in a cluster having size 6: 12.83\n",
      "Average matches played per person in a cluster having size 7: 27.33\n",
      "Average matches played per person in a cluster having size 8: nan\n",
      "Average matches played per person in a cluster having size 9: 25.11\n",
      "Average matches played per person in a cluster having size 10: 30.20\n",
      "Average matches played per person in a cluster having size 11: nan\n",
      "Average matches played per person in a cluster having size (5,10]: 22.88\n",
      "Average matches played per person in a cluster having size (10,max]: 36.33\n"
     ]
    }
   ],
   "source": [
    "# Calculate the average matches played per person for each cluster size\n",
    "average_matches_per_person = {}\n",
    "for size in range(2, 12):\n",
    "    cluster_size_df = df[df['total_nodes'] == size]\n",
    "    average_matches_per_person[size] = cluster_size_df['total_matches'].mean() / size\n",
    "\n",
    "\n",
    "# For cluster size between 5 and 10\n",
    "cluster_size_df = df[(df['total_nodes'] >= 5) & (df['total_nodes'] <= 10)]\n",
    "average_matches_per_person['(5,10]'] = cluster_size_df['total_matches'].mean() / cluster_size_df['total_nodes'].mean()\n",
    "\n",
    "# For cluster size greater than 10\n",
    "cluster_size_df = df[df['total_nodes'] > 10]\n",
    "average_matches_per_person['(10,max]'] = cluster_size_df['total_matches'].mean() / cluster_size_df['total_nodes'].mean()\n",
    "\n",
    "# Print the results\n",
    "for size_range, average_matches in average_matches_per_person.items():\n",
    "    print(f\"Average matches played per person in a cluster having size {size_range}: {2*average_matches:.2f}\")\n"
   ]
  },
  {
   "cell_type": "code",
   "execution_count": 44,
   "metadata": {},
   "outputs": [
    {
     "name": "stdout",
     "output_type": "stream",
     "text": [
      "Total Matches:  4159.0\n",
      "Around 30% of the matches are played by 1.5730337078651686% players\n",
      "Around 50% of the matches are played by 2.9213483146067416% players\n",
      "Around 70% of the matches are played by 4.943820224719101% players\n",
      "Around 90% of the matches are played by 7.865168539325842% players\n"
     ]
    }
   ],
   "source": [
    "from pandas.io.json import json_normalize \n",
    "\n",
    "\n",
    "with open('player_matches.json') as f:\n",
    "    match_counts = json.load(f)\n",
    "\n",
    "arr=[]\n",
    "for key,value in match_counts.items():\n",
    "    arr.append((value,key))\n",
    "arr.sort(reverse=True)\n",
    "# print(arr)\n",
    "\n",
    "\n",
    "total_matches = df.sum(axis = 0, skipna = True)['total_matches']\n",
    "print(\"Total Matches: \",total_matches)\n",
    "total_players = len(match_counts)\n",
    "print(\"Total Playes: \",total_players)\n",
    "\n",
    "players_till_now=0\n",
    "matches_till_now =0\n",
    "# print(type(match_counts))\n",
    "\n",
    "flag70 = True\n",
    "flag90 = True\n",
    "flag50 = True\n",
    "flag30 = True\n",
    "\n",
    "for value,_ in arr:\n",
    "    players_till_now+=1\n",
    "    matches_till_now+=value\n",
    "    matches_percent = 100*matches_till_now/total_matches\n",
    "    if(matches_percent >= 90 and flag90):\n",
    "        player_percent = players_till_now/total_players\n",
    "        print(f\"Around 90% of the matches are played by {100 * player_percent}% players\")\n",
    "        flag90 = False\n",
    "        flag70 = False\n",
    "        flag50 = False\n",
    "        flag30 = False\n",
    "        continue\n",
    "\n",
    "    if(matches_percent >= 70 and flag70):\n",
    "        player_percent = players_till_now/total_players\n",
    "        print(f\"Around 70% of the matches are played by {100 * player_percent}% players\")\n",
    "        flag70 = False\n",
    "        flag50 = False\n",
    "        flag30 = False\n",
    "        continue\n",
    "    if(matches_percent >= 50 and flag50):\n",
    "        player_percent = players_till_now/total_players\n",
    "        print(f\"Around 50% of the matches are played by {100 * player_percent}% players\")\n",
    "        flag50 = False\n",
    "        flag30 = False\n",
    "        continue\n",
    "\n",
    "    if(matches_percent >= 30 and flag30) :\n",
    "        player_percent = players_till_now/total_players\n",
    "        print(f\"Around 30% of the matches are played by {100 * player_percent}% players\")\n",
    "        flag30 = False\n",
    "        continue\n",
    "\n",
    "\n",
    "\n"
   ]
  },
  {
   "cell_type": "markdown",
   "metadata": {},
   "source": [
    "### Players vs Clusters"
   ]
  },
  {
   "cell_type": "code",
   "execution_count": 7,
   "metadata": {},
   "outputs": [
    {
     "name": "stdout",
     "output_type": "stream",
     "text": [
      "\n",
      "\n",
      "\n",
      "Cluster Size: 2\n",
      "Percentage of players with more than 0% matches: 100.00%\n",
      "Percentage of players with more than 2.0% matches: 100.00%\n",
      "Percentage of players with more than 6.0% matches: 100.00%\n",
      "Percentage of players with more than 30.0% matches: 100.00%\n",
      "Cluster Size: 3\n",
      "Percentage of players with more than 0% matches: 100.00%\n",
      "Percentage of players with more than 2.0% matches: 100.00%\n",
      "Percentage of players with more than 6.0% matches: 100.00%\n",
      "Percentage of players with more than 30.0% matches: 88.46%\n",
      "Cluster Size: 4\n",
      "Percentage of players with more than 0% matches: 100.00%\n",
      "Percentage of players with more than 2.0% matches: 100.00%\n",
      "Percentage of players with more than 6.0% matches: 97.50%\n",
      "Percentage of players with more than 30.0% matches: 77.50%\n",
      "{2: [(0, 100.0), (0.02, 100.0), (0.06, 100.0), (0.3, 100.0)], 3: [(0, 100.0), (0.02, 100.0), (0.06, 100.0), (0.3, 88.46153846153847)], 4: [(0, 100.0), (0.02, 100.0), (0.06, 97.5), (0.3, 77.5)]}\n",
      "\n",
      "Average array: [(0, 100.0), (0.02, 100.0), (0.06, 99.74489795918367), (0.3, 94.64285714285714)]\n",
      "\n",
      "\n",
      "\n",
      "Cluster Size: 110\n",
      "Percentage of players with more than 0% matches: 100.00%\n",
      "Percentage of players with more than 2.0% matches: 24.55%\n",
      "Percentage of players with more than 6.0% matches: 7.27%\n",
      "Percentage of players with more than 30.0% matches: 0.00%\n",
      "{2: [(0, 100.0), (0.02, 100.0), (0.06, 100.0), (0.3, 100.0)], 3: [(0, 100.0), (0.02, 100.0), (0.06, 100.0), (0.3, 88.46153846153847)], 4: [(0, 100.0), (0.02, 100.0), (0.06, 97.5), (0.3, 77.5)], 110: [(0, 100.0), (0.02, 24.545454545454547), (0.06, 7.2727272727272725), (0.3, 0.0)]}\n",
      "\n",
      "Average array: [(0, 100.0), (0.02, 99.2378328741965), (0.06, 98.81083562901745), (0.3, 93.68686868686869)]\n",
      "\n",
      "\n",
      "\n",
      "Cluster Size: 9\n",
      "Percentage of players with more than 0% matches: 100.00%\n",
      "Percentage of players with more than 2.0% matches: 100.00%\n",
      "Percentage of players with more than 6.0% matches: 88.89%\n",
      "Percentage of players with more than 30.0% matches: 22.22%\n",
      "Cluster Size: 10\n",
      "Percentage of players with more than 0% matches: 100.00%\n",
      "Percentage of players with more than 2.0% matches: 80.00%\n",
      "Percentage of players with more than 6.0% matches: 80.00%\n",
      "Percentage of players with more than 30.0% matches: 20.00%\n",
      "{2: [(0, 100.0), (0.02, 100.0), (0.06, 100.0), (0.3, 100.0)], 3: [(0, 100.0), (0.02, 100.0), (0.06, 100.0), (0.3, 88.46153846153847)], 4: [(0, 100.0), (0.02, 100.0), (0.06, 97.5), (0.3, 77.5)], 110: [(0, 100.0), (0.02, 24.545454545454547), (0.06, 7.2727272727272725), (0.3, 0.0)], 9: [(0, 100.0), (0.02, 100.0), (0.06, 88.88888888888889), (0.3, 22.22222222222222)], 10: [(0, 100.0), (0.02, 80.0), (0.06, 80.0), (0.3, 20.0)]}\n",
      "\n",
      "Average array: [(0, 100.0), (0.02, 99.05490549054905), (0.06, 98.52635263526354), (0.3, 92.24972497249725)]\n",
      "\n",
      "\n",
      "\n",
      "Cluster Size: 5\n",
      "Percentage of players with more than 0% matches: 100.00%\n",
      "Percentage of players with more than 2.0% matches: 100.00%\n",
      "Percentage of players with more than 6.0% matches: 100.00%\n",
      "Percentage of players with more than 30.0% matches: 50.00%\n",
      "Cluster Size: 6\n",
      "Percentage of players with more than 0% matches: 100.00%\n",
      "Percentage of players with more than 2.0% matches: 100.00%\n",
      "Percentage of players with more than 6.0% matches: 100.00%\n",
      "Percentage of players with more than 30.0% matches: 50.00%\n",
      "Cluster Size: 7\n",
      "Percentage of players with more than 0% matches: 100.00%\n",
      "Percentage of players with more than 2.0% matches: 100.00%\n",
      "Percentage of players with more than 6.0% matches: 90.48%\n",
      "Percentage of players with more than 30.0% matches: 40.48%\n",
      "{2: [(0, 100.0), (0.02, 100.0), (0.06, 100.0), (0.3, 100.0)], 3: [(0, 100.0), (0.02, 100.0), (0.06, 100.0), (0.3, 88.46153846153847)], 4: [(0, 100.0), (0.02, 100.0), (0.06, 97.5), (0.3, 77.5)], 9: [(0, 100.0), (0.02, 100.0), (0.06, 88.88888888888889), (0.3, 22.22222222222222)], 10: [(0, 100.0), (0.02, 80.0), (0.06, 80.0), (0.3, 20.0)], 110: [(0, 100.0), (0.02, 24.545454545454547), (0.06, 7.2727272727272725), (0.3, 0.0)], 5: [(0, 100.0), (0.02, 100.0), (0.06, 100.0), (0.3, 50.0)], 6: [(0, 100.0), (0.02, 100.0), (0.06, 100.0), (0.3, 50.0)], 7: [(0, 100.0), (0.02, 100.0), (0.06, 90.47619047619048), (0.3, 40.476190476190474)]}\n",
      "\n",
      "Average array: [(0, 100.0), (0.02, 99.15526950925181), (0.06, 98.17715715945805), (0.3, 87.25733951397669)]\n"
     ]
    }
   ],
   "source": [
    "df = pd.read_csv(\"cluster.csv\")\n",
    "\n",
    "for ind,row in df.iterrows():\n",
    "    for node in row[\"nodes\"]:\n",
    "        strr = row[\"nodes\"].strip('{').strip('}')\n",
    "        strr = strr.strip(\"'\")\n",
    "        lst = strr.split(',')\n",
    "        for i in range(0,len(lst)):\n",
    "            lst[i]=lst[i].strip(\" \").strip(\"'\")\n",
    "            lst[i] = int(lst[i])\n",
    "    df.at[ind,\"nodes\"]=lst\n",
    "\n",
    "with open('player_matches.json') as f:\n",
    "    match_counts = json.load(f)\n",
    "\n",
    "# Function to calculate percentage of players with match counts exceeding a threshold\n",
    "def calculate_percentage(df_slice, threshold):\n",
    "    percent_players_played_above_threshold_matches=0\n",
    "    for ind, row in df_slice.iterrows():\n",
    "        total_matches = row['total_matches']\n",
    "        total_players = row[\"total_nodes\"]\n",
    "        players_above_threshold = 0\n",
    "        \n",
    "        for node in row[\"nodes\"]:\n",
    "            if int(match_counts[str(node)]) >= threshold * total_matches:\n",
    "                players_above_threshold += 1\n",
    "                #print(threshold * total_matches,match_counts[str(node)])\n",
    "        percent_players_played_above_threshold_matches+=100 * players_above_threshold/ total_players\n",
    "    return percent_players_played_above_threshold_matches/len(df_slice)\n",
    "\n",
    "cluster_analysis_discrete = {}\n",
    "cluster_frequency = {}\n",
    "\n",
    "ranges = {(2,5),(5,8),(8,11),(11,max(df['total_nodes'])+1)}\n",
    "for lims in ranges:\n",
    "    print(\"\\n\\n\")\n",
    "    for cluster_size in range(lims[0],lims[1]):\n",
    "        if len(df[df[\"total_nodes\"]==cluster_size])==0:\n",
    "            continue\n",
    "        lst = []\n",
    "        thresholds = [0,0.02,0.06,0.3]\n",
    "        mean_percentages = {}\n",
    "        for threshold in thresholds:\n",
    "            percentages = []\n",
    "            cluster_frequency[cluster_size]=len(df[df[\"total_nodes\"]==cluster_size])\n",
    "            percentages.append(calculate_percentage(df[df[\"total_nodes\"]==cluster_size], threshold))  # change for cluster_size\n",
    "            mean_percentages[threshold] = sum(percentages) / len(percentages)\n",
    "        print(f\"Cluster Size: {cluster_size}\")\n",
    "        for threshold, percentage in mean_percentages.items():\n",
    "            print(f\"Percentage of players with more than {threshold*100}% matches: {percentage:.2f}%\")\n",
    "        for iter in mean_percentages.items():\n",
    "            lst.append(iter)\n",
    "        cluster_analysis_discrete[cluster_size]=lst\n",
    "    print(cluster_analysis_discrete)\n",
    "\n",
    "    cumulative_sums = {}\n",
    "    counts = {}\n",
    "    cluster_analysis_discrete\n",
    "    # Iterate over each cluster size and each threshold to calculate the cumulative sum and count\n",
    "    cluster_analysis_discrete=dict(sorted(cluster_analysis_discrete.items()))\n",
    "    for cluster_size, thresholds_data in cluster_analysis_discrete.items():\n",
    "        if cluster_size ==0:\n",
    "            continue\n",
    "        for threshold, percentage in thresholds_data:\n",
    "            if threshold in cumulative_sums:\n",
    "                cumulative_sums[threshold] += percentage*cluster_frequency[cluster_size]\n",
    "                counts[threshold] += cluster_frequency[cluster_size]\n",
    "            else:\n",
    "                cumulative_sums[threshold] = percentage*cluster_frequency[cluster_size]\n",
    "                counts[threshold] = cluster_frequency[cluster_size]\n",
    "\n",
    "    # Calculate the average percentage for each threshold\n",
    "    average_array = [(threshold, cumulative_sums[threshold] / counts[threshold]) for threshold in cumulative_sums]\n",
    "\n",
    "    print(\"\\nAverage array:\", average_array)\n"
   ]
  },
  {
   "cell_type": "code",
   "execution_count": 8,
   "metadata": {},
   "outputs": [
    {
     "ename": "ValueError",
     "evalue": "invalid literal for int() with base 10: \"{'72'\"",
     "output_type": "error",
     "traceback": [
      "\u001b[0;31m---------------------------------------------------------------------------\u001b[0m",
      "\u001b[0;31mValueError\u001b[0m                                Traceback (most recent call last)",
      "Cell \u001b[0;32mIn[8], line 7\u001b[0m\n\u001b[1;32m      5\u001b[0m         lst \u001b[38;5;241m=\u001b[39m row[\u001b[38;5;124m\"\u001b[39m\u001b[38;5;124mnodes\u001b[39m\u001b[38;5;124m\"\u001b[39m]\u001b[38;5;241m.\u001b[39mstrip(\u001b[38;5;124m'\u001b[39m\u001b[38;5;124m[\u001b[39m\u001b[38;5;124m'\u001b[39m)\u001b[38;5;241m.\u001b[39mstrip(\u001b[38;5;124m'\u001b[39m\u001b[38;5;124m]\u001b[39m\u001b[38;5;124m'\u001b[39m)\u001b[38;5;241m.\u001b[39msplit(\u001b[38;5;124m'\u001b[39m\u001b[38;5;124m,\u001b[39m\u001b[38;5;124m'\u001b[39m)\n\u001b[1;32m      6\u001b[0m         \u001b[38;5;28;01mfor\u001b[39;00m i \u001b[38;5;129;01min\u001b[39;00m \u001b[38;5;28mrange\u001b[39m(\u001b[38;5;241m0\u001b[39m,\u001b[38;5;28mlen\u001b[39m(lst)):\n\u001b[0;32m----> 7\u001b[0m             lst[i] \u001b[38;5;241m=\u001b[39m \u001b[38;5;28;43mint\u001b[39;49m\u001b[43m(\u001b[49m\u001b[43mlst\u001b[49m\u001b[43m[\u001b[49m\u001b[43mi\u001b[49m\u001b[43m]\u001b[49m\u001b[43m)\u001b[49m\n\u001b[1;32m      8\u001b[0m     df\u001b[38;5;241m.\u001b[39mat[ind,\u001b[38;5;124m\"\u001b[39m\u001b[38;5;124mnodes\u001b[39m\u001b[38;5;124m\"\u001b[39m]\u001b[38;5;241m=\u001b[39mlst\n\u001b[1;32m     10\u001b[0m \u001b[38;5;28mtype\u001b[39m(df[\u001b[38;5;124m'\u001b[39m\u001b[38;5;124mnodes\u001b[39m\u001b[38;5;124m'\u001b[39m][\u001b[38;5;241m0\u001b[39m][\u001b[38;5;241m0\u001b[39m])\n",
      "\u001b[0;31mValueError\u001b[0m: invalid literal for int() with base 10: \"{'72'\""
     ]
    }
   ],
   "source": [
    "df = pd.read_csv(\"cluster.csv\")\n",
    "\n",
    "for ind,row in df.iterrows():\n",
    "    for node in row[\"nodes\"]:\n",
    "        lst = row[\"nodes\"].strip('[').strip(']').split(',')\n",
    "        for i in range(0,len(lst)):\n",
    "            lst[i] = int(lst[i])\n",
    "    df.at[ind,\"nodes\"]=lst\n",
    "\n",
    "type(df['nodes'][0][0])"
   ]
  },
  {
   "cell_type": "code",
   "execution_count": null,
   "metadata": {},
   "outputs": [
    {
     "data": {
      "text/plain": [
       "array([3])"
      ]
     },
     "execution_count": 142,
     "metadata": {},
     "output_type": "execute_result"
    }
   ],
   "source": [
    "df = pd.read_csv(\"../dataset/squash_dataset.csv\")\n",
    "df[\"cntr_id\"].unique()"
   ]
  },
  {
   "cell_type": "code",
   "execution_count": null,
   "metadata": {},
   "outputs": [],
   "source": [
    "with open('player_matches.json') as f:\n",
    "    match_counts = json.load(f)\n",
    "    \n"
   ]
  },
  {
   "cell_type": "markdown",
   "metadata": {},
   "source": [
    "1. 80% of matches are played by how many players (sort)"
   ]
  }
 ],
 "metadata": {
  "kernelspec": {
   "display_name": "Python 3",
   "language": "python",
   "name": "python3"
  },
  "language_info": {
   "codemirror_mode": {
    "name": "ipython",
    "version": 3
   },
   "file_extension": ".py",
   "mimetype": "text/x-python",
   "name": "python",
   "nbconvert_exporter": "python",
   "pygments_lexer": "ipython3",
   "version": "3.10.12"
  }
 },
 "nbformat": 4,
 "nbformat_minor": 4
}
