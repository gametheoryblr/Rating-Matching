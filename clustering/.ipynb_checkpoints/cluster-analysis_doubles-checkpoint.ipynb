{
 "cells": [
  {
   "cell_type": "code",
   "execution_count": 2,
   "metadata": {},
   "outputs": [],
   "source": [
    "import json\n",
    "import pandas as pd\n",
    "import os\n",
    "from collections import OrderedDict\n",
    "import math"
   ]
  },
  {
   "cell_type": "markdown",
   "metadata": {},
   "source": [
    "- Loading the dataset"
   ]
  },
  {
   "cell_type": "code",
   "execution_count": 4,
   "metadata": {},
   "outputs": [],
   "source": [
    "df = pd.read_csv(\"cluster_doubles.csv\")\n",
    "\n",
    "#String of nodes to list of nodes\n",
    "for ind,row in df.iterrows():\n",
    "    for node in row[\"nodes\"]:\n",
    "        strr = row[\"nodes\"].strip('{').strip('}')\n",
    "        strr = strr.strip(\"'\")\n",
    "        lst = strr.split(',')\n",
    "        for i in range(0,len(lst)):\n",
    "            lst[i]=lst[i].strip(\" \").strip(\"'\")\n",
    "            # lst[i] = int(lst[i])\n",
    "    df.at[ind,\"nodes\"]=lst\n",
    "\n",
    "df = df.sort_values(by = 'total_nodes',ascending = False)\n",
    "\n",
    "with open('player_matches.json') as f:\n",
    "    match_counts = json.load(f)"
   ]
  },
  {
   "cell_type": "markdown",
   "metadata": {},
   "source": [
    "- Matches vs Clusters"
   ]
  },
  {
   "cell_type": "code",
   "execution_count": 5,
   "metadata": {},
   "outputs": [
    {
     "ename": "SyntaxError",
     "evalue": "invalid syntax (<ipython-input-5-97b1ec232e8f>, line 3)",
     "output_type": "error",
     "traceback": [
      "\u001b[0;36m  File \u001b[0;32m\"<ipython-input-5-97b1ec232e8f>\"\u001b[0;36m, line \u001b[0;32m3\u001b[0m\n\u001b[0;31m    print(f\"Around {threshold}% of the matches are played by {100 * cluster_percent}% clusters\")\u001b[0m\n\u001b[0m                                                                                              ^\u001b[0m\n\u001b[0;31mSyntaxError\u001b[0m\u001b[0;31m:\u001b[0m invalid syntax\n"
     ]
    }
   ],
   "source": [
    "def print_cluster_percentage(matches_percent, threshold, clusters_till_now, total_clusters):\n",
    "    cluster_percent = clusters_till_now / total_clusters\n",
    "    print(f\"Around {threshold}% of the matches are played by {100 * cluster_percent}% clusters\")\n",
    "\n",
    "    \n",
    "thresholds = [100, 70, 50, 30] #Input thresholds\n",
    "total_matches = df.sum(axis = 0, skipna = True)['total_matches']\n",
    "total_clusters = len(df)\n",
    "print(\"Total Matches: \",total_matches)\n",
    "print(\"Total clusters: \",total_clusters)\n",
    "matches_till_now = 0\n",
    "clusters_till_now = 0\n",
    "flags = OrderedDict.fromkeys(thresholds, True)\n",
    "\n",
    "for _, row in df.iterrows():\n",
    "    clusters_till_now += 1\n",
    "    matches_till_now += row['total_matches']\n",
    "    matches_percent = 100 * matches_till_now / total_matches\n",
    "\n",
    "    for threshold in sorted(flags.keys(),reverse= True):\n",
    "        if matches_percent >= threshold:\n",
    "            print_cluster_percentage(matches_percent, threshold, clusters_till_now, total_clusters)\n",
    "            flags.pop(threshold)\n",
    "            break\n"
   ]
  },
  {
   "cell_type": "markdown",
   "metadata": {},
   "source": [
    "- Cluster vs Players"
   ]
  },
  {
   "cell_type": "code",
   "execution_count": 4,
   "metadata": {},
   "outputs": [
    {
     "name": "stdout",
     "output_type": "stream",
     "text": [
      "Total Clusters:  224\n",
      "Unique list of cluster sizes:  [339  16  12  10   9   8   7   6   5   4   3   2]\n",
      "Clusters with players == 2     : 66.52% of the total clusters or 149 clusters\n",
      "Clusters with players == 3     : 16.52% of the total clusters or 37 clusters\n",
      "Clusters with players == 4     : 5.36% of the total clusters or 12 clusters\n",
      "Clusters with players == 5     : 3.57% of the total clusters or 8 clusters\n",
      "Clusters with players >5 & <=10: 6.25% of the total clusters or 14 clusters\n",
      "Clusters with players >10      : 1.34% of the total clusters or 3 clusters\n"
     ]
    }
   ],
   "source": [
    "#Change these conditions accordingly\n",
    "conditions = [\n",
    "    (\"== 2     \", 2),\n",
    "    (\"== 3     \", 3),\n",
    "    (\"== 4     \", 4),\n",
    "    (\"== 5     \", 5),\n",
    "    (\">5 & <=10\", (5, 10)),\n",
    "    (\">10      \", 10)\n",
    "]\n",
    "\n",
    "# Print total clusters\n",
    "print(\"Total Clusters: \", total_clusters)\n",
    "print(\"Unique list of cluster sizes: \",df['total_nodes'].unique())\n",
    "\n",
    "# print(\"Unique list with frequency:\")    #Uncomment to see frequency count\n",
    "# print(df['total_nodes'].value_counts())\n",
    "\n",
    "# Calculate the percentage for each condition\n",
    "for condition_label, condition_value in conditions:\n",
    "    if isinstance(condition_value, int):\n",
    "        subset = df[df['total_nodes'] == condition_value]\n",
    "    else:\n",
    "        subset = df[(df['total_nodes'] > condition_value[0]) & (df['total_nodes'] <= condition_value[1])]\n",
    "    \n",
    "    percentage = len(subset) / total_clusters * 100\n",
    "    print(f\"Clusters with players {condition_label}: {percentage:.2f}% of the total clusters or {len(subset)} clusters\")\n"
   ]
  },
  {
   "cell_type": "markdown",
   "metadata": {},
   "source": [
    "- Cluster vs Players vs Matches"
   ]
  },
  {
   "cell_type": "code",
   "execution_count": 5,
   "metadata": {},
   "outputs": [
    {
     "name": "stdout",
     "output_type": "stream",
     "text": [
      "Avg matches/person in a cluster having size 2: 11.96\n",
      "Avg matches/cluster having size 2: 11.96\n",
      "\n",
      "Avg matches/person in a cluster having size 3: 28.47\n",
      "Avg matches/cluster having size 3: 42.70\n",
      "\n",
      "Avg matches/person in a cluster having size 4: 33.17\n",
      "Avg matches/cluster having size 4: 66.33\n",
      "\n",
      "Avg matches/person in a cluster having size 5: 49.50\n",
      "Avg matches/cluster having size 5: 123.75\n",
      "\n",
      "Avg matches/person in a cluster having size 6: 33.67\n",
      "Avg matches/cluster having size 6: 101.00\n",
      "\n",
      "Avg matches/person in a cluster having size 7: 27.07\n",
      "Avg matches/cluster having size 7: 94.75\n",
      "\n",
      "Avg matches/person in a cluster having size 8: 47.50\n",
      "Avg matches/cluster having size 8: 190.00\n",
      "\n",
      "Avg matches/person in a cluster having size 9: 24.89\n",
      "Avg matches/cluster having size 9: 112.00\n",
      "\n",
      "Avg matches/person in a cluster having size 10: 21.47\n",
      "Avg matches/cluster having size 10: 107.33\n",
      "\n",
      "Avg matches/person in a cluster having size 12: 63.25\n",
      "Avg matches/cluster having size 12: 379.50\n",
      "\n",
      "Avg matches/person in a cluster having size 16: 71.00\n",
      "Avg matches/cluster having size 16: 568.00\n",
      "\n",
      "Avg matches/person in a cluster having size 339: 99.56\n",
      "Avg matches/cluster having size 339: 16875.00\n",
      "\n",
      "Avg matches/person in a cluster having size (5,10]: 34.46\n",
      "Avg matches/cluster having size (5,10]: 113.55\n",
      "\n",
      "Avg matches/person in a cluster having size (10,max]: 96.05\n",
      "Avg matches/cluster having size (10,max]: 4550.50\n",
      "\n"
     ]
    }
   ],
   "source": [
    "# Calculate the average matches played per person for each cluster size\n",
    "average_matches_per_person = {}\n",
    "average_matches_per_cluster = {}\n",
    "for size in range(2, max(df['total_nodes'])+1):\n",
    "    cluster_size_df = df[df['total_nodes'] == size]\n",
    "    if(len(df))==0:\n",
    "        continue\n",
    "    average_matches_per_person[size] = cluster_size_df['total_matches'].mean() / size\n",
    "    average_matches_per_cluster[size] = cluster_size_df['total_matches'].mean()\n",
    "\n",
    "\n",
    "\n",
    "# For cluster size between 5 and 10\n",
    "cluster_size_df = df[(df['total_nodes'] >= 5) & (df['total_nodes'] <= 10)]\n",
    "average_matches_per_person['(5,10]'] = cluster_size_df['total_matches'].mean() / cluster_size_df['total_nodes'].mean()\n",
    "average_matches_per_cluster['(5,10]'] = cluster_size_df['total_matches'].mean()\n",
    "\n",
    "# For cluster size greater than 10\n",
    "cluster_size_df = df[df['total_nodes'] > 10]\n",
    "average_matches_per_person['(10,max]'] = cluster_size_df['total_matches'].mean() / cluster_size_df['total_nodes'].mean()\n",
    "average_matches_per_cluster['(10,max]'] = cluster_size_df['total_matches'].mean()\n",
    "\n",
    "# Print the results\n",
    "for size_range, average_matches in average_matches_per_person.items():\n",
    "    if math.isnan(average_matches):\n",
    "        continue\n",
    "    print(f\"Avg matches/person in a cluster having size {size_range}: {2*average_matches:.2f}\")\n",
    "    print(f\"Avg matches/cluster having size {size_range}: {average_matches_per_cluster[size_range]:.2f}\\n\")\n"
   ]
  },
  {
   "cell_type": "markdown",
   "metadata": {},
   "source": [
    "- Players vs Matches"
   ]
  },
  {
   "cell_type": "code",
   "execution_count": 6,
   "metadata": {},
   "outputs": [
    {
     "name": "stdout",
     "output_type": "stream",
     "text": [
      "Total Matches:  24858.0\n",
      "Total Players:  981\n",
      "Around 30% of the matches are played by 0.7135575942915392% players\n",
      "Around 50% of the matches are played by 1.325178389398573% players\n",
      "Around 70% of the matches are played by 2.344546381243629% players\n",
      "Around 200% of the matches are played by 100.0% players\n"
     ]
    }
   ],
   "source": [
    "arr = []\n",
    "\n",
    "for key,value in match_counts.items():\n",
    "    arr.append((value,key))\n",
    "\n",
    "arr.sort(reverse=True)\n",
    "\n",
    "def print_cluster_percentage(matches_percent, threshold, players_till_now, total_players):\n",
    "    player_percent = players_till_now / total_players\n",
    "    print(f\"Around {threshold}% of the matches are played by {100 * player_percent}% players\")\n",
    "\n",
    "    \n",
    "thresholds = [200, 70, 50, 30] #Input thresholds - Can go upto 200%\n",
    "total_matches = df.sum(axis = 0, skipna = True)['total_matches']\n",
    "total_players = len(match_counts)\n",
    "print(\"Total Matches: \",total_matches)\n",
    "print(\"Total Players: \",total_players)\n",
    "matches_till_now = 0\n",
    "players_till_now = 0\n",
    "\n",
    "flags = OrderedDict.fromkeys(thresholds, True)\n",
    "\n",
    "for iter in arr:\n",
    "    players_till_now += 1\n",
    "    matches_till_now += iter[0]\n",
    "    matches_percent = 100 * matches_till_now / total_matches\n",
    "\n",
    "    for threshold in sorted(flags.keys(),reverse= True):\n",
    "        if matches_percent >= threshold:\n",
    "            print_cluster_percentage(matches_percent, threshold, players_till_now, total_players)\n",
    "            flags.pop(threshold)\n",
    "            break"
   ]
  },
  {
   "cell_type": "markdown",
   "metadata": {},
   "source": [
    "- Players vs Clusters vs Matches"
   ]
  },
  {
   "cell_type": "code",
   "execution_count": 7,
   "metadata": {},
   "outputs": [
    {
     "name": "stdout",
     "output_type": "stream",
     "text": [
      "For the cluster-size range (2, 5): Avg  % of players with more than 0% matches= 100.00%\n",
      "For the cluster-size range (2, 5): Avg  % of players with more than 2.0% matches= 99.78%\n",
      "For the cluster-size range (2, 5): Avg  % of players with more than 6.0% matches= 99.34%\n",
      "For the cluster-size range (2, 5): Avg  % of players with more than 30.0% matches= 93.00%\n",
      "\n",
      "\n",
      "For the cluster-size range (5, 8): Avg  % of players with more than 0% matches= 100.00%\n",
      "For the cluster-size range (5, 8): Avg  % of players with more than 2.0% matches= 98.98%\n",
      "For the cluster-size range (5, 8): Avg  % of players with more than 6.0% matches= 95.92%\n",
      "For the cluster-size range (5, 8): Avg  % of players with more than 30.0% matches= 47.96%\n",
      "\n",
      "\n",
      "For the cluster-size range (8, 11): Avg  % of players with more than 0% matches= 100.00%\n",
      "For the cluster-size range (8, 11): Avg  % of players with more than 2.0% matches= 95.74%\n",
      "For the cluster-size range (8, 11): Avg  % of players with more than 6.0% matches= 70.21%\n",
      "For the cluster-size range (8, 11): Avg  % of players with more than 30.0% matches= 25.53%\n",
      "\n",
      "\n",
      "For the cluster-size range (11, 340): Avg  % of players with more than 0% matches= 100.00%\n",
      "For the cluster-size range (11, 340): Avg  % of players with more than 2.0% matches= 13.72%\n",
      "For the cluster-size range (11, 340): Avg  % of players with more than 6.0% matches= 5.80%\n",
      "For the cluster-size range (11, 340): Avg  % of players with more than 30.0% matches= 2.64%\n",
      "\n",
      "\n"
     ]
    }
   ],
   "source": [
    "# Function to calculate percentage of players with match counts exceeding a threshold\n",
    "def calculate_percentage(df_slice, threshold):\n",
    "    percent_players_played_above_threshold_matches=0\n",
    "    for _, row in df_slice.iterrows():\n",
    "        total_matches = row['total_matches']\n",
    "        total_players = row[\"total_nodes\"]\n",
    "        players_above_threshold = 0\n",
    "        \n",
    "        for node in row[\"nodes\"]:\n",
    "            if int(match_counts[str(node)]) >= threshold * total_matches:\n",
    "                players_above_threshold += 1\n",
    "                #print(threshold * total_matches,match_counts[str(node)])\n",
    "        percent_players_played_above_threshold_matches += 100 * players_above_threshold/ total_players\n",
    "    \n",
    "    return percent_players_played_above_threshold_matches/len(df_slice)\n",
    "\n",
    "\n",
    "# INPUTS\n",
    "thresholds = [0,0.02,0.06,0.3] # Change the thresholds accordingly\n",
    "ranges = [(2,5),(5,8),(8,11),(11,max(df['total_nodes'])+1)] # Change the ranges accordingly\n",
    "\n",
    "\n",
    "cluster_frequency = {}\n",
    "\n",
    "for lims in ranges:\n",
    "    cluster_analysis_discrete = {}\n",
    "    for cluster_size in range(lims[0],lims[1]):\n",
    "        if len(df[df[\"total_nodes\"]==cluster_size])==0:\n",
    "            continue\n",
    "\n",
    "        lst = []\n",
    "        mean_percentages = {}\n",
    "        df_slice = df[df[\"total_nodes\"]==cluster_size]\n",
    "        for threshold in thresholds:\n",
    "            percentages = []\n",
    "            \n",
    "            cluster_frequency[cluster_size]=len(df_slice)\n",
    "            mean_percentages[threshold*100] = calculate_percentage(df_slice, threshold)\n",
    "            \n",
    "#         print(f\"Cluster Size: {cluster_size}\")\n",
    "#         for threshold, percentage in mean_percentages.items():\n",
    "#             print(f\"Percentage of players with more than {threshold}% matches: {percentage:.2f}%\")\n",
    "        \n",
    "        cluster_analysis_discrete[cluster_size] = list(mean_percentages.items()),sum(df_slice['total_nodes'])\n",
    "#     print(cluster_analysis_discrete) #Ouput Array with weights\n",
    "\n",
    "    #computing weighted average array from cluster_analysis_discrete\n",
    "    arr = {}\n",
    "    total_weight = 0\n",
    "    for key,value in cluster_analysis_discrete.items():\n",
    "        total_weight+=value[1]\n",
    "        for threshold,percentage in value[0]:\n",
    "            arr[threshold] = arr.get(threshold,0) + percentage*value[1]\n",
    "    \n",
    "    for key in arr:\n",
    "        arr[key] = arr[key]/total_weight\n",
    "        print(f\"For the cluster-size range {lims[0],lims[1]}: Avg  % of players with more than {key}% matches= {arr[key]:.2f}%\")\n",
    "    print(\"\\n\")\n"
   ]
  },
  {
   "cell_type": "code",
   "execution_count": null,
   "metadata": {},
   "outputs": [],
   "source": []
  }
 ],
 "metadata": {
  "kernelspec": {
   "display_name": "Python 3",
   "language": "python",
   "name": "python3"
  },
  "language_info": {
   "codemirror_mode": {
    "name": "ipython",
    "version": 2
   },
   "file_extension": ".py",
   "mimetype": "text/x-python",
   "name": "python",
   "nbconvert_exporter": "python",
   "pygments_lexer": "ipython2",
   "version": "2.7.17"
  }
 },
 "nbformat": 4,
 "nbformat_minor": 4
}
